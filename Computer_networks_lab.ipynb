{
  "nbformat": 4,
  "nbformat_minor": 0,
  "metadata": {
    "colab": {
      "provenance": []
    },
    "kernelspec": {
      "name": "python3",
      "display_name": "Python 3"
    },
    "language_info": {
      "name": "python"
    }
  },
  "cells": [
    {
      "cell_type": "code",
      "execution_count": 1,
      "metadata": {
        "colab": {
          "base_uri": "https://localhost:8080/"
        },
        "id": "PjYRUg4u2G-A",
        "outputId": "cc4719eb-ec4e-4c15-bfe0-1227d11f2cb8"
      },
      "outputs": [
        {
          "output_type": "stream",
          "name": "stdout",
          "text": [
            "HTTP/1.1 200 OK\r\n",
            "Content-Type: text/html\r\n",
            "ETag: \"84238dfc8092e5d9c0dac8ef93371a07:1736799080.121134\"\r\n",
            "Last-Modified: Mon, 13 Jan 2025 20:11:20 GMT\r\n",
            "Cache-Control: max-age=2539\r\n",
            "Date: Sun, 20 Apr 2025 15:34:25 GMT\r\n",
            "Content-Length: 1256\r\n",
            "Connection: close\r\n",
            "X-N: S\r\n",
            "\r\n",
            "<!doctype html>\n",
            "<html>\n",
            "<head>\n",
            "    <title>Example Domain</title>\n",
            "\n",
            "    <meta charset=\"utf-8\" />\n",
            "    <meta http-equiv=\"Content-type\" content=\"text/html; charset=utf-8\" />\n",
            "    <meta name=\"viewport\" content=\"width=device-width, initial-scale=1\" />\n",
            "    <style type=\"text/css\">\n",
            "    body {\n",
            "        background-color: #f0f0f2;\n",
            "        margin: 0;\n",
            "        padding: 0;\n",
            "        font-family: -apple-system, system-ui, BlinkMacSystemFont, \"Segoe UI\", \"Open Sans\", \"Helvetica Neue\", Helvetica, Arial, sans-serif;\n",
            "        \n",
            "    }\n",
            "    div {\n",
            "        width: 600px;\n",
            "        margin: 5em auto;\n",
            "        padding: 2em;\n",
            "        background-color: #fdfdff;\n",
            "        border-radius: 0.5em;\n",
            "        box-shadow: 2px 3px 7px 2px rgba(0,0,0,0.02);\n",
            "    }\n",
            "    a:link, a:visited {\n",
            "        color: #38488f;\n",
            "        text-decoration: none;\n",
            "    }\n",
            "    @media (max-width: 700px) {\n",
            "        div {\n",
            "            margin: 0 auto;\n",
            "            width: auto;\n",
            "        }\n",
            "    }\n",
            "    </style>    \n",
            "</head>\n",
            "\n",
            "<body>\n",
            "<div>\n",
            "    <h1>Example Domain</h1>\n",
            "    <p>This domain is for use in illustrative examples in documents. You may use this\n",
            "    domain in literature without prior coordination or asking for permission.</p>\n",
            "    <p><a href=\"https://www.iana.org/domains/example\">More information...</a></p>\n",
            "</div>\n",
            "</body>\n",
            "</html>\n",
            "\n"
          ]
        }
      ],
      "source": [
        "# 1.SIMPLE HTTP WEB CLIENT USING TCP SOCKETS\n",
        "import socket\n",
        "\n",
        "host = \"example.com\"\n",
        "with socket.create_connection((host, 80)) as s:\n",
        "    s.sendall(f\"GET / HTTP/1.1\\r\\nHost: {host}\\r\\nConnection: close\\r\\n\\r\\n\".encode())\n",
        "    print(s.recv(10000).decode(errors=\"replace\"))\n",
        "\n"
      ]
    },
    {
      "cell_type": "code",
      "source": [
        "# 2. HOST AND IP ADDRESS\n",
        "import socket\n",
        "def get_host_info():\n",
        "    try:\n",
        "\n",
        "        host_name = socket.gethostname()# Get the host name of the machine\n",
        "        ip_address = socket.gethostbyname(host_name)# Get the IP address of the machine\n",
        "\n",
        "        print(f\"Host Name: {host_name}\")\n",
        "        print(f\"IP Address: {ip_address}\")\n",
        "    except Exception as e:\n",
        "        print(f\"An error occurred: {e}\")\n",
        "\n",
        "\n",
        "if __name__ == \"__main__\":\n",
        "    get_host_info()\n"
      ],
      "metadata": {
        "colab": {
          "base_uri": "https://localhost:8080/"
        },
        "id": "pV3TuiXt2Mjs",
        "outputId": "e304a5fe-208a-44d8-c269-1dfa7aba439f"
      },
      "execution_count": 2,
      "outputs": [
        {
          "output_type": "stream",
          "name": "stdout",
          "text": [
            "Host Name: 750e93945f18\n",
            "IP Address: 172.28.0.12\n"
          ]
        }
      ]
    },
    {
      "cell_type": "code",
      "source": [
        "# 3. NETWORK SIMULATION AND CONGESTION CONTROL\n",
        "import random\n",
        "\n",
        "cwnd, ssthresh = 1, 64\n",
        "for _ in range(20):\n",
        "    print(f\"Sending with cwnd={cwnd}\")\n",
        "    if random.random() < 0.1:  # Simulate packet loss\n",
        "        print(\"Packet loss, cwnd=1, ssthresh=\", max(cwnd//2, 2))\n",
        "        cwnd, ssthresh = 1, max(cwnd//2, 2)\n",
        "    else:\n",
        "        cwnd = cwnd * 2 if cwnd < ssthresh else cwnd + 1\n",
        "        print(f\"Data sent successfully, cwnd={min(cwnd, 100)}\")\n"
      ],
      "metadata": {
        "colab": {
          "base_uri": "https://localhost:8080/"
        },
        "id": "_mn13JUA2SAF",
        "outputId": "5b9e6c4f-fa88-44c0-de96-90fb1b9719a5"
      },
      "execution_count": 3,
      "outputs": [
        {
          "output_type": "stream",
          "name": "stdout",
          "text": [
            "Sending with cwnd=1\n",
            "Data sent successfully, cwnd=2\n",
            "Sending with cwnd=2\n",
            "Data sent successfully, cwnd=4\n",
            "Sending with cwnd=4\n",
            "Packet loss, cwnd=1, ssthresh= 2\n",
            "Sending with cwnd=1\n",
            "Data sent successfully, cwnd=2\n",
            "Sending with cwnd=2\n",
            "Data sent successfully, cwnd=3\n",
            "Sending with cwnd=3\n",
            "Data sent successfully, cwnd=4\n",
            "Sending with cwnd=4\n",
            "Packet loss, cwnd=1, ssthresh= 2\n",
            "Sending with cwnd=1\n",
            "Data sent successfully, cwnd=2\n",
            "Sending with cwnd=2\n",
            "Data sent successfully, cwnd=3\n",
            "Sending with cwnd=3\n",
            "Data sent successfully, cwnd=4\n",
            "Sending with cwnd=4\n",
            "Data sent successfully, cwnd=5\n",
            "Sending with cwnd=5\n",
            "Data sent successfully, cwnd=6\n",
            "Sending with cwnd=6\n",
            "Data sent successfully, cwnd=7\n",
            "Sending with cwnd=7\n",
            "Data sent successfully, cwnd=8\n",
            "Sending with cwnd=8\n",
            "Data sent successfully, cwnd=9\n",
            "Sending with cwnd=9\n",
            "Data sent successfully, cwnd=10\n",
            "Sending with cwnd=10\n",
            "Data sent successfully, cwnd=11\n",
            "Sending with cwnd=11\n",
            "Data sent successfully, cwnd=12\n",
            "Sending with cwnd=12\n",
            "Data sent successfully, cwnd=13\n",
            "Sending with cwnd=13\n",
            "Data sent successfully, cwnd=14\n"
          ]
        }
      ]
    },
    {
      "cell_type": "code",
      "source": [
        "# 4. SIMULATING ARP /RARP PROTOCOLS\n",
        "arp_table = {\"192.168.1.1\": \"00:14:22:01:23:45\", \"192.168.1.2\": \"00:14:22:01:23:46\"}\n",
        "rarp_table = {\"00:14:22:01:23:45\": \"192.168.1.1\", \"00:14:22:01:23:46\": \"192.168.1.2\"}\n",
        "\n",
        "def arp_request(ip): print(f\"ARP Request: {arp_table.get(ip, 'Not found')}\")\n",
        "def rarp_request(mac): print(f\"RARP Request: {rarp_table.get(mac, 'Not found')}\")\n",
        "\n",
        "arp_request(\"192.168.1.1\")  # Found IP\n",
        "arp_request(\"192.168.1.3\")  # Not Found IP\n",
        "rarp_request(\"00:14:22:01:23:45\")  # Found MAC\n",
        "rarp_request(\"00:00:00:00:00:00\")  # Not Found MAC\n"
      ],
      "metadata": {
        "colab": {
          "base_uri": "https://localhost:8080/"
        },
        "id": "YdYehGdO2ZHo",
        "outputId": "ad1e7c9c-de21-489a-82e5-eaaaaa6771b6"
      },
      "execution_count": 4,
      "outputs": [
        {
          "output_type": "stream",
          "name": "stdout",
          "text": [
            "ARP Request: 00:14:22:01:23:45\n",
            "ARP Request: Not found\n",
            "RARP Request: 192.168.1.1\n",
            "RARP Request: Not found\n"
          ]
        }
      ]
    },
    {
      "cell_type": "code",
      "source": [
        "# 5. SIMULATING ROUTING ALGORITHMS AND ERROR CORRECTION CODES\n",
        "import socket\n",
        "\n",
        "# Distance Vector Routing\n",
        "def dvr(nodes, connections):\n",
        "    dist = {node: {n: float('inf') for n in nodes} for node in nodes}\n",
        "    for (n1, n2, d) in connections:\n",
        "        dist[n1][n2] = dist[n2][n1] = d\n",
        "    for node in nodes:\n",
        "        for n1 in nodes:\n",
        "            for n2 in nodes:\n",
        "                dist[n1][n2] = min(dist[n1][n2], dist[n1][node] + dist[node][n2])\n",
        "    print(f\"Distance Vector Routing:{dist}\\n\")\n",
        "\n",
        "# DNS Info\n",
        "def get_dns_info():\n",
        "    print(f\"DNS Info: Host={socket.gethostname()}\\n, IP={socket.gethostbyname(socket.gethostname())}\\n\")\n",
        "\n",
        "# CRC-16\n",
        "def crc16(data):\n",
        "    crc = 0xFFFF\n",
        "    for byte in data:\n",
        "        crc ^= byte << 8\n",
        "        for _ in range(8):\n",
        "            crc = (crc << 1) ^ 0x11021 if crc & 0x8000 else crc << 1\n",
        "            crc &= 0xFFFF\n",
        "    print(f\"CRC-16: {crc:04X}\")\n",
        "\n",
        "# Run tests\n",
        "dvr(['A', 'B', 'C'], [('A', 'B', 1), ('B', 'C', 2)])\n",
        "get_dns_info()\n",
        "crc16(b'Hello, world!')\n"
      ],
      "metadata": {
        "colab": {
          "base_uri": "https://localhost:8080/"
        },
        "id": "CD4SqnTA2dA0",
        "outputId": "77df704d-cb11-40ce-df9d-9131dd0b6024"
      },
      "execution_count": 5,
      "outputs": [
        {
          "output_type": "stream",
          "name": "stdout",
          "text": [
            "Distance Vector Routing:{'A': {'A': 2, 'B': 1, 'C': 3}, 'B': {'A': 1, 'B': 2, 'C': 2}, 'C': {'A': 3, 'B': 2, 'C': 4}}\n",
            "\n",
            "DNS Info: Host=750e93945f18\n",
            ", IP=172.28.0.12\n",
            "\n",
            "CRC-16: 52D2\n"
          ]
        }
      ]
    },
    {
      "cell_type": "code",
      "source": [
        "# 6. TCP/UDP PERFORMANCE USING SIMULATION TOOL\n",
        "import socket, time, threading\n",
        "\n",
        "def run_test(protocol, port=8080):\n",
        "    def server():\n",
        "        with socket.socket(socket.AF_INET, protocol) as s:\n",
        "            s.bind(('localhost', port))\n",
        "            if protocol == socket.SOCK_STREAM:\n",
        "                s.listen(1)\n",
        "                conn, _ = s.accept()\n",
        "                with conn:\n",
        "                    conn.recv(1024)\n",
        "                    conn.send(b'Hello')\n",
        "            else:\n",
        "                data, addr = s.recvfrom(1024)\n",
        "                s.sendto(b'Hello', addr)\n",
        "\n",
        "    def client():\n",
        "        with socket.socket(socket.AF_INET, protocol) as s:\n",
        "            start = time.time()\n",
        "            if protocol == socket.SOCK_STREAM:\n",
        "                s.connect(('localhost', port))\n",
        "                s.send(b'Hello')\n",
        "                s.recv(1024)\n",
        "            else:\n",
        "                s.sendto(b'Hello', ('localhost', port))\n",
        "                s.recvfrom(1024)\n",
        "            print(f\"{'TCP' if protocol == socket.SOCK_STREAM else 'UDP'} Time: {time.time() - start:.5f}s\")\n",
        "\n",
        "    threading.Thread(target=server).start()\n",
        "    time.sleep(0.5)\n",
        "    client()\n",
        "\n",
        "# Run both tests\n",
        "for proto in [socket.SOCK_STREAM, socket.SOCK_DGRAM]:\n",
        "    run_test(proto)"
      ],
      "metadata": {
        "colab": {
          "base_uri": "https://localhost:8080/"
        },
        "id": "qnNG58E12iEc",
        "outputId": "8c150280-87da-46d3-c6b7-f0a6876a996e"
      },
      "execution_count": 6,
      "outputs": [
        {
          "output_type": "stream",
          "name": "stderr",
          "text": [
            "Exception in thread Thread-8 (server):\n",
            "Traceback (most recent call last):\n",
            "  File \"/usr/lib/python3.11/threading.py\", line 1045, in _bootstrap_inner\n",
            "    self.run()\n",
            "  File \"/usr/lib/python3.11/threading.py\", line 982, in run\n",
            "    self._target(*self._args, **self._kwargs)\n",
            "  File \"<ipython-input-6-6f38450e9a39>\", line 7, in server\n",
            "OSError: [Errno 98] Address already in use\n"
          ]
        },
        {
          "output_type": "stream",
          "name": "stdout",
          "text": [
            "TCP Time: 0.00104s\n",
            "UDP Time: 0.00043s\n"
          ]
        }
      ]
    },
    {
      "cell_type": "code",
      "source": [
        "# 7. SIMPLE HTTP\n",
        "import requests\n",
        "url = \"http://example.com\"\n",
        "res = requests.get(url)\n",
        "print(\"Status:\", res.status_code)\n",
        "print(res.text[:100])"
      ],
      "metadata": {
        "colab": {
          "base_uri": "https://localhost:8080/"
        },
        "id": "plerQVzq2mcQ",
        "outputId": "bba7588f-2721-4d5f-d838-7e23ee5edaec"
      },
      "execution_count": 7,
      "outputs": [
        {
          "output_type": "stream",
          "name": "stdout",
          "text": [
            "Status: 200\n",
            "<!doctype html>\n",
            "<html>\n",
            "<head>\n",
            "    <title>Example Domain</title>\n",
            "\n",
            "    <meta charset=\"utf-8\" />\n",
            "    <m\n"
          ]
        }
      ]
    },
    {
      "cell_type": "code",
      "source": [
        "# 8. IPV4 CALCULATOR\n",
        "ip = \"192.168.1.1\"\n",
        "binary = '.'.join(format(int(part), '08b') for part in ip.split('.'))\n",
        "print(\"Binary IP:\", binary)"
      ],
      "metadata": {
        "colab": {
          "base_uri": "https://localhost:8080/"
        },
        "id": "Fky-M2zK2qhD",
        "outputId": "c57aea45-716e-4c9d-9904-3c71c639ce56"
      },
      "execution_count": 8,
      "outputs": [
        {
          "output_type": "stream",
          "name": "stdout",
          "text": [
            "Binary IP: 11000000.10101000.00000001.00000001\n"
          ]
        }
      ]
    },
    {
      "cell_type": "code",
      "source": [
        "# 9. LEAKY BUCKET ALGORITHM\n",
        "bucket_size, rate = 10, 3\n",
        "packets = [4, 5, 2, 8, 6]\n",
        "for p in packets:\n",
        "    if p <= bucket_size:\n",
        "        print(f\"Sent {min(p, rate)} units\")\n",
        "        bucket_size -= p\n",
        "    else: print(\"Packet Dropped\")"
      ],
      "metadata": {
        "colab": {
          "base_uri": "https://localhost:8080/"
        },
        "id": "s_zwtDkn2tp4",
        "outputId": "064dcf89-3f61-44e2-9bbf-6764b5033f5c"
      },
      "execution_count": 9,
      "outputs": [
        {
          "output_type": "stream",
          "name": "stdout",
          "text": [
            "Sent 3 units\n",
            "Sent 3 units\n",
            "Packet Dropped\n",
            "Packet Dropped\n",
            "Packet Dropped\n"
          ]
        }
      ]
    },
    {
      "cell_type": "code",
      "source": [
        "# 10. Simulate sending an email (console-based, no SMTP)\n",
        "\n",
        "sender = \"a@x.com\"\n",
        "receiver = \"b@y.com\"\n",
        "subject = \"CN Practical\"\n",
        "body = \"Dear Student,\\n\\nThis is a test email for your Computer Networks practical.\\n\\nRegards,\\nProfessor\"\n",
        "\n",
        "print(\"----- EMAIL MESSAGE -----\")\n",
        "print(f\"From   : {sender}\")\n",
        "print(f\"To     : {receiver}\")\n",
        "print(f\"Subject: {subject}\")\n",
        "print(\"\\n\" + body)\n",
        "print(\"-------------------------\")\n"
      ],
      "metadata": {
        "colab": {
          "base_uri": "https://localhost:8080/"
        },
        "id": "ixrESCYR2xAK",
        "outputId": "f8f643de-b6ce-4f94-e42b-f352c87935c8"
      },
      "execution_count": 10,
      "outputs": [
        {
          "output_type": "stream",
          "name": "stdout",
          "text": [
            "----- EMAIL MESSAGE -----\n",
            "From   : a@x.com\n",
            "To     : b@y.com\n",
            "Subject: CN Practical\n",
            "\n",
            "Dear Student,\n",
            "\n",
            "This is a test email for your Computer Networks practical.\n",
            "\n",
            "Regards,\n",
            "Professor\n",
            "-------------------------\n"
          ]
        }
      ]
    },
    {
      "cell_type": "code",
      "source": [
        "# 11. OSI MODEL SIMULATION\n",
        "layers = [\"App\", \"Presentation\", \"Session\", \"Transport\", \"Network\", \"Data Link\", \"Physical\"]\n",
        "data = \"Hello\"\n",
        "for layer in layers:\n",
        "    data = f\"{layer}({data})\"\n",
        "print(\"Sending:\", data)\n",
        "for layer in reversed(layers):\n",
        "    data = data.replace(f\"{layer}(\", \"\").rstrip(\")\")\n",
        "print(\"Received:\", data)\n"
      ],
      "metadata": {
        "colab": {
          "base_uri": "https://localhost:8080/"
        },
        "id": "iL36S9vB20d0",
        "outputId": "3b98fd4f-c0e8-47d0-ca61-e8b3264bf6e6"
      },
      "execution_count": 11,
      "outputs": [
        {
          "output_type": "stream",
          "name": "stdout",
          "text": [
            "Sending: Physical(Data Link(Network(Transport(Session(Presentation(App(Hello)))))))\n",
            "Received: Hello\n"
          ]
        }
      ]
    },
    {
      "cell_type": "code",
      "source": [
        "# 12. TOKEN BUCKET ALGORITHM\n",
        "tokens = 0\n",
        "for t in range(5):\n",
        "    tokens = min(tokens + 5, 10)\n",
        "    req = random.randint(1, 8)\n",
        "    if tokens >= req:\n",
        "        tokens -= req\n",
        "        print(f\"Sent {req}, Remaining {tokens}\")\n",
        "    else: print(\"Not enough tokens\")"
      ],
      "metadata": {
        "colab": {
          "base_uri": "https://localhost:8080/"
        },
        "id": "dyW8dBg_2402",
        "outputId": "2b9dd371-3b05-40eb-c0fe-4e761a58aa5b"
      },
      "execution_count": 12,
      "outputs": [
        {
          "output_type": "stream",
          "name": "stdout",
          "text": [
            "Not enough tokens\n",
            "Sent 6, Remaining 4\n",
            "Sent 2, Remaining 7\n",
            "Sent 8, Remaining 2\n",
            "Sent 1, Remaining 6\n"
          ]
        }
      ]
    },
    {
      "cell_type": "code",
      "source": [
        "# 13. WIFI SCANNER\n",
        "import subprocess\n",
        "\n",
        "\n",
        "def scan_wifi():\n",
        "    try:\n",
        "        # Run the netsh command to scan for Wi-Fi networks\n",
        "        result = subprocess.check_output(\"netsh wlan show networks\", shell=True)\n",
        "\n",
        "        # Decode the result and print it\n",
        "        print(\"Available Wi-Fi Networks:\")\n",
        "        print(result.decode())\n",
        "\n",
        "    except Exception as e:\n",
        "        print(f\"Error: {e}\")\n",
        "\n",
        "\n",
        "# Run the Wi-Fi scanner\n",
        "scan_wifi()\n"
      ],
      "metadata": {
        "colab": {
          "base_uri": "https://localhost:8080/"
        },
        "id": "idLeCyDy27wo",
        "outputId": "5ef60b9c-0fdf-4ec2-925c-a67f9c8ec495"
      },
      "execution_count": 13,
      "outputs": [
        {
          "output_type": "stream",
          "name": "stdout",
          "text": [
            "Error: Command 'netsh wlan show networks' returned non-zero exit status 127.\n"
          ]
        }
      ]
    },
    {
      "cell_type": "code",
      "source": [
        "# 14. LAN SCANNER USING socket and ipadress\n",
        "\n",
        "import socket\n",
        "import ipaddress\n",
        "\n",
        "def scan_network(network):\n",
        "    try:\n",
        "        # Validate and generate IPs in the subnet\n",
        "        network_ips = ipaddress.IPv4Network(network, strict=False)\n",
        "    except ValueError as e:\n",
        "        print(f\"Invalid network: {e}\")\n",
        "        return\n",
        "\n",
        "    print(f\"Scanning network: {network}\\n\")\n",
        "\n",
        "    for ip in network_ips.hosts():  # Only usable hosts, skips network & broadcast\n",
        "        try:\n",
        "            sock = socket.socket(socket.AF_INET, socket.SOCK_STREAM)\n",
        "            sock.settimeout(0.5)\n",
        "            result = sock.connect_ex((str(ip), 80))  # HTTP port\n",
        "            if result == 0:\n",
        "                print(f\"Host {ip} is up (HTTP port 80 open)\")\n",
        "        except Exception as e:\n",
        "            print(f\"Error scanning {ip}: {e}\")\n",
        "        finally:\n",
        "            sock.close()\n",
        "\n",
        "# Example usage\n",
        "if __name__ == \"__main__\":\n",
        "    scan_network('192.168.1.0/28')  # Replace with your subnet\n"
      ],
      "metadata": {
        "colab": {
          "base_uri": "https://localhost:8080/"
        },
        "id": "l0DHoP9h2_rf",
        "outputId": "02dd78f3-e194-47ac-965b-96f4b3651644"
      },
      "execution_count": 14,
      "outputs": [
        {
          "output_type": "stream",
          "name": "stdout",
          "text": [
            "Scanning network: 192.168.1.0/28\n",
            "\n"
          ]
        }
      ]
    },
    {
      "cell_type": "code",
      "source": [
        "# 15. SDN flow rule example\n",
        "class Switch:\n",
        "    def __init__(self): self.flow_table = {}\n",
        "    def install_rule(self, ip, action): self.flow_table[ip] = action\n",
        "    def forward(self, ip): print(self.flow_table.get(ip, \"Drop\"))\n",
        "s = Switch()\n",
        "s.install_rule(\"10.0.0.1\", \"Forward to Port 1\")\n",
        "s.forward(\"10.0.0.1\")"
      ],
      "metadata": {
        "colab": {
          "base_uri": "https://localhost:8080/"
        },
        "id": "ejvQCPN93VsK",
        "outputId": "9fb3032b-cb93-4d7e-99f4-9f008d4d076d"
      },
      "execution_count": 15,
      "outputs": [
        {
          "output_type": "stream",
          "name": "stdout",
          "text": [
            "Forward to Port 1\n"
          ]
        }
      ]
    },
    {
      "cell_type": "code",
      "source": [
        "# 16. VLAN Concept demo\n",
        "devices = {\"PC1\": 10, \"PC2\": 10, \"PC3\": 20}\n",
        "def can_communicate(d1, d2):\n",
        "    return devices[d1] == devices[d2]\n",
        "print(\"PC1 <-> PC2:\", can_communicate(\"PC1\", \"PC2\"))\n",
        "print(\"PC1 <-> PC3:\", can_communicate(\"PC1\", \"PC3\"))"
      ],
      "metadata": {
        "colab": {
          "base_uri": "https://localhost:8080/"
        },
        "id": "wbvRdtNH3ZY9",
        "outputId": "a5e5639f-e419-4e65-cb3f-3800db359575"
      },
      "execution_count": 16,
      "outputs": [
        {
          "output_type": "stream",
          "name": "stdout",
          "text": [
            "PC1 <-> PC2: True\n",
            "PC1 <-> PC3: False\n"
          ]
        }
      ]
    },
    {
      "cell_type": "code",
      "source": [
        "# 17. ARP SIMULATION\n",
        "arp_table = {\n",
        "    \"192.168.1.1\": \"00:0a:95:9d:68:16\",\n",
        "    \"192.168.1.2\": \"00:0a:95:9d:68:17\"\n",
        "}\n",
        "\n",
        "def arp(ip):\n",
        "    return arp_table.get(ip, \"MAC not found\")\n",
        "\n",
        "print(\"MAC Address for 192.168.1.1:\", arp(\"192.168.1.1\"))"
      ],
      "metadata": {
        "colab": {
          "base_uri": "https://localhost:8080/"
        },
        "id": "5YfF9QeW3b-I",
        "outputId": "857145ff-7d3c-4bcd-a961-deb7fad2ed9b"
      },
      "execution_count": 17,
      "outputs": [
        {
          "output_type": "stream",
          "name": "stdout",
          "text": [
            "MAC Address for 192.168.1.1: 00:0a:95:9d:68:16\n"
          ]
        }
      ]
    },
    {
      "cell_type": "code",
      "source": [
        "# 18. DHCP IP ASSIGNMENT\n",
        "pool = [\"192.168.0.\"+str(i) for i in range(2, 5)]\n",
        "assigned = {}\n",
        "for client in [\"A\", \"B\", \"C\"]:\n",
        "    ip = pool.pop(0)\n",
        "    assigned[client] = ip\n",
        "    print(f\"{client} -> {ip}\")\n"
      ],
      "metadata": {
        "colab": {
          "base_uri": "https://localhost:8080/"
        },
        "id": "tMsTr3Ad3fQ0",
        "outputId": "270e0e86-b444-475f-f19c-a357d5d74891"
      },
      "execution_count": 18,
      "outputs": [
        {
          "output_type": "stream",
          "name": "stdout",
          "text": [
            "A -> 192.168.0.2\n",
            "B -> 192.168.0.3\n",
            "C -> 192.168.0.4\n"
          ]
        }
      ]
    },
    {
      "cell_type": "code",
      "source": [
        "# 19. IPV6 SIMULATOR\n",
        "import ipaddress, random\n",
        "\n",
        "addr = ipaddress.IPv6Address(random.getrandbits(128))\n",
        "print(\"Generated IPv6:\", addr)\n",
        "\n",
        "ip_str = input(\"Enter IPv6 to validate: \")\n",
        "\n",
        "try:\n",
        "    ip = ipaddress.IPv6Address(ip_str)\n",
        "    print(\"Valid IPv6!\")\n",
        "    print(\"Compressed:\", ip.compressed)\n",
        "    print(\"Expanded:\", ip.exploded)\n",
        "except ValueError:\n",
        "    print(\"Invalid IPv6 address.\")\n"
      ],
      "metadata": {
        "colab": {
          "base_uri": "https://localhost:8080/"
        },
        "id": "bytkfYHW3h26",
        "outputId": "ea9b073d-92c7-4d9b-d940-cd994a9a101a"
      },
      "execution_count": 19,
      "outputs": [
        {
          "output_type": "stream",
          "name": "stdout",
          "text": [
            "Generated IPv6: 1314:4433:2bf8:8c31:e158:c44a:a5be:c875\n",
            "Enter IPv6 to validate: 1314:4433:2bf8:8c31:e158:c44a:a5be:c875\n",
            "Valid IPv6!\n",
            "Compressed: 1314:4433:2bf8:8c31:e158:c44a:a5be:c875\n",
            "Expanded: 1314:4433:2bf8:8c31:e158:c44a:a5be:c875\n"
          ]
        }
      ]
    },
    {
      "cell_type": "code",
      "source": [
        "# 20. CRC ENCODING\n",
        "def xor(a, b):\n",
        "    return ''.join('0' if i == j else '1' for i, j in zip(a, b))\n",
        "\n",
        "def crc(data, key):\n",
        "    d = data + '0' * (len(key) - 1)\n",
        "    for _ in range(len(data)):\n",
        "        if d[0] == '1':\n",
        "            d = xor(d[:len(key)], key) + d[len(key):]\n",
        "        else:\n",
        "            d = xor(d[:len(key)], '0'*len(key)) + d[len(key):]\n",
        "        d = d[1:]\n",
        "    return data + d\n",
        "\n",
        "# Example\n",
        "print(\"CRC Encoded:\", crc(\"100100\", \"1011\"))"
      ],
      "metadata": {
        "colab": {
          "base_uri": "https://localhost:8080/"
        },
        "id": "l7yKljfs3lH7",
        "outputId": "030baf8a-657b-4596-e297-2c14e920b7fc"
      },
      "execution_count": 20,
      "outputs": [
        {
          "output_type": "stream",
          "name": "stdout",
          "text": [
            "CRC Encoded: 100100101\n"
          ]
        }
      ]
    }
  ]
}